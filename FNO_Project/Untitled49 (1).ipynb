{
  "nbformat": 4,
  "nbformat_minor": 0,
  "metadata": {
    "colab": {
      "provenance": [],
      "collapsed_sections": [
        "fRIsbJ8a2D81"
      ],
      "gpuType": "T4"
    },
    "kernelspec": {
      "name": "python3",
      "display_name": "Python 3"
    },
    "language_info": {
      "name": "python"
    },
    "accelerator": "GPU"
  },
  "cells": [
    {
      "cell_type": "markdown",
      "source": [
        "# Setting up"
      ],
      "metadata": {
        "id": "fRIsbJ8a2D81"
      }
    },
    {
      "cell_type": "code",
      "source": [
        "import pandas as pd\n",
        "import numpy as np\n",
        "import matplotlib.pyplot as plt\n",
        "import seaborn as sns\n",
        "import warnings\n",
        "warnings.filterwarnings('ignore')"
      ],
      "metadata": {
        "id": "VfNLJbaMTylB"
      },
      "execution_count": 3,
      "outputs": []
    },
    {
      "cell_type": "code",
      "source": [
        "import torch"
      ],
      "metadata": {
        "id": "b7Ey5q66T4A8"
      },
      "execution_count": 4,
      "outputs": []
    },
    {
      "cell_type": "code",
      "source": [
        "!pip install fourier-neural-operator"
      ],
      "metadata": {
        "colab": {
          "base_uri": "https://localhost:8080/",
          "height": 0
        },
        "collapsed": true,
        "id": "yHFi0ol0VNZL",
        "outputId": "8fc3664d-66dc-487a-9c79-3954fb655a5a"
      },
      "execution_count": 5,
      "outputs": [
        {
          "output_type": "stream",
          "name": "stdout",
          "text": [
            "Collecting fourier-neural-operator\n",
            "  Downloading fourier_neural_operator-0.17.tar.gz (21 kB)\n",
            "  Preparing metadata (setup.py) ... \u001b[?25l\u001b[?25hdone\n",
            "Requirement already satisfied: torch>=1.8 in /usr/local/lib/python3.11/dist-packages (from fourier-neural-operator) (2.6.0+cu124)\n",
            "Collecting einops==0.3.2 (from fourier-neural-operator)\n",
            "  Downloading einops-0.3.2-py3-none-any.whl.metadata (10 kB)\n",
            "Requirement already satisfied: filelock in /usr/local/lib/python3.11/dist-packages (from torch>=1.8->fourier-neural-operator) (3.18.0)\n",
            "Requirement already satisfied: typing-extensions>=4.10.0 in /usr/local/lib/python3.11/dist-packages (from torch>=1.8->fourier-neural-operator) (4.14.1)\n",
            "Requirement already satisfied: networkx in /usr/local/lib/python3.11/dist-packages (from torch>=1.8->fourier-neural-operator) (3.5)\n",
            "Requirement already satisfied: jinja2 in /usr/local/lib/python3.11/dist-packages (from torch>=1.8->fourier-neural-operator) (3.1.6)\n",
            "Requirement already satisfied: fsspec in /usr/local/lib/python3.11/dist-packages (from torch>=1.8->fourier-neural-operator) (2025.3.0)\n",
            "Collecting nvidia-cuda-nvrtc-cu12==12.4.127 (from torch>=1.8->fourier-neural-operator)\n",
            "  Downloading nvidia_cuda_nvrtc_cu12-12.4.127-py3-none-manylinux2014_x86_64.whl.metadata (1.5 kB)\n",
            "Collecting nvidia-cuda-runtime-cu12==12.4.127 (from torch>=1.8->fourier-neural-operator)\n",
            "  Downloading nvidia_cuda_runtime_cu12-12.4.127-py3-none-manylinux2014_x86_64.whl.metadata (1.5 kB)\n",
            "Collecting nvidia-cuda-cupti-cu12==12.4.127 (from torch>=1.8->fourier-neural-operator)\n",
            "  Downloading nvidia_cuda_cupti_cu12-12.4.127-py3-none-manylinux2014_x86_64.whl.metadata (1.6 kB)\n",
            "Collecting nvidia-cudnn-cu12==9.1.0.70 (from torch>=1.8->fourier-neural-operator)\n",
            "  Downloading nvidia_cudnn_cu12-9.1.0.70-py3-none-manylinux2014_x86_64.whl.metadata (1.6 kB)\n",
            "Collecting nvidia-cublas-cu12==12.4.5.8 (from torch>=1.8->fourier-neural-operator)\n",
            "  Downloading nvidia_cublas_cu12-12.4.5.8-py3-none-manylinux2014_x86_64.whl.metadata (1.5 kB)\n",
            "Collecting nvidia-cufft-cu12==11.2.1.3 (from torch>=1.8->fourier-neural-operator)\n",
            "  Downloading nvidia_cufft_cu12-11.2.1.3-py3-none-manylinux2014_x86_64.whl.metadata (1.5 kB)\n",
            "Collecting nvidia-curand-cu12==10.3.5.147 (from torch>=1.8->fourier-neural-operator)\n",
            "  Downloading nvidia_curand_cu12-10.3.5.147-py3-none-manylinux2014_x86_64.whl.metadata (1.5 kB)\n",
            "Collecting nvidia-cusolver-cu12==11.6.1.9 (from torch>=1.8->fourier-neural-operator)\n",
            "  Downloading nvidia_cusolver_cu12-11.6.1.9-py3-none-manylinux2014_x86_64.whl.metadata (1.6 kB)\n",
            "Collecting nvidia-cusparse-cu12==12.3.1.170 (from torch>=1.8->fourier-neural-operator)\n",
            "  Downloading nvidia_cusparse_cu12-12.3.1.170-py3-none-manylinux2014_x86_64.whl.metadata (1.6 kB)\n",
            "Requirement already satisfied: nvidia-cusparselt-cu12==0.6.2 in /usr/local/lib/python3.11/dist-packages (from torch>=1.8->fourier-neural-operator) (0.6.2)\n",
            "Requirement already satisfied: nvidia-nccl-cu12==2.21.5 in /usr/local/lib/python3.11/dist-packages (from torch>=1.8->fourier-neural-operator) (2.21.5)\n",
            "Requirement already satisfied: nvidia-nvtx-cu12==12.4.127 in /usr/local/lib/python3.11/dist-packages (from torch>=1.8->fourier-neural-operator) (12.4.127)\n",
            "Collecting nvidia-nvjitlink-cu12==12.4.127 (from torch>=1.8->fourier-neural-operator)\n",
            "  Downloading nvidia_nvjitlink_cu12-12.4.127-py3-none-manylinux2014_x86_64.whl.metadata (1.5 kB)\n",
            "Requirement already satisfied: triton==3.2.0 in /usr/local/lib/python3.11/dist-packages (from torch>=1.8->fourier-neural-operator) (3.2.0)\n",
            "Requirement already satisfied: sympy==1.13.1 in /usr/local/lib/python3.11/dist-packages (from torch>=1.8->fourier-neural-operator) (1.13.1)\n",
            "Requirement already satisfied: mpmath<1.4,>=1.1.0 in /usr/local/lib/python3.11/dist-packages (from sympy==1.13.1->torch>=1.8->fourier-neural-operator) (1.3.0)\n",
            "Requirement already satisfied: MarkupSafe>=2.0 in /usr/local/lib/python3.11/dist-packages (from jinja2->torch>=1.8->fourier-neural-operator) (3.0.2)\n",
            "Downloading einops-0.3.2-py3-none-any.whl (25 kB)\n",
            "Downloading nvidia_cublas_cu12-12.4.5.8-py3-none-manylinux2014_x86_64.whl (363.4 MB)\n",
            "\u001b[2K   \u001b[90m━━━━━━━━━━━━━━━━━━━━━━━━━━━━━━━━━━━━━━━━\u001b[0m \u001b[32m363.4/363.4 MB\u001b[0m \u001b[31m4.5 MB/s\u001b[0m eta \u001b[36m0:00:00\u001b[0m\n",
            "\u001b[?25hDownloading nvidia_cuda_cupti_cu12-12.4.127-py3-none-manylinux2014_x86_64.whl (13.8 MB)\n",
            "\u001b[2K   \u001b[90m━━━━━━━━━━━━━━━━━━━━━━━━━━━━━━━━━━━━━━━━\u001b[0m \u001b[32m13.8/13.8 MB\u001b[0m \u001b[31m100.4 MB/s\u001b[0m eta \u001b[36m0:00:00\u001b[0m\n",
            "\u001b[?25hDownloading nvidia_cuda_nvrtc_cu12-12.4.127-py3-none-manylinux2014_x86_64.whl (24.6 MB)\n",
            "\u001b[2K   \u001b[90m━━━━━━━━━━━━━━━━━━━━━━━━━━━━━━━━━━━━━━━━\u001b[0m \u001b[32m24.6/24.6 MB\u001b[0m \u001b[31m83.9 MB/s\u001b[0m eta \u001b[36m0:00:00\u001b[0m\n",
            "\u001b[?25hDownloading nvidia_cuda_runtime_cu12-12.4.127-py3-none-manylinux2014_x86_64.whl (883 kB)\n",
            "\u001b[2K   \u001b[90m━━━━━━━━━━━━━━━━━━━━━━━━━━━━━━━━━━━━━━━━\u001b[0m \u001b[32m883.7/883.7 kB\u001b[0m \u001b[31m41.6 MB/s\u001b[0m eta \u001b[36m0:00:00\u001b[0m\n",
            "\u001b[?25hDownloading nvidia_cudnn_cu12-9.1.0.70-py3-none-manylinux2014_x86_64.whl (664.8 MB)\n",
            "\u001b[2K   \u001b[90m━━━━━━━━━━━━━━━━━━━━━━━━━━━━━━━━━━━━━━━━\u001b[0m \u001b[32m664.8/664.8 MB\u001b[0m \u001b[31m2.1 MB/s\u001b[0m eta \u001b[36m0:00:00\u001b[0m\n",
            "\u001b[?25hDownloading nvidia_cufft_cu12-11.2.1.3-py3-none-manylinux2014_x86_64.whl (211.5 MB)\n",
            "\u001b[2K   \u001b[90m━━━━━━━━━━━━━━━━━━━━━━━━━━━━━━━━━━━━━━━━\u001b[0m \u001b[32m211.5/211.5 MB\u001b[0m \u001b[31m5.7 MB/s\u001b[0m eta \u001b[36m0:00:00\u001b[0m\n",
            "\u001b[?25hDownloading nvidia_curand_cu12-10.3.5.147-py3-none-manylinux2014_x86_64.whl (56.3 MB)\n",
            "\u001b[2K   \u001b[90m━━━━━━━━━━━━━━━━━━━━━━━━━━━━━━━━━━━━━━━━\u001b[0m \u001b[32m56.3/56.3 MB\u001b[0m \u001b[31m11.5 MB/s\u001b[0m eta \u001b[36m0:00:00\u001b[0m\n",
            "\u001b[?25hDownloading nvidia_cusolver_cu12-11.6.1.9-py3-none-manylinux2014_x86_64.whl (127.9 MB)\n",
            "\u001b[2K   \u001b[90m━━━━━━━━━━━━━━━━━━━━━━━━━━━━━━━━━━━━━━━━\u001b[0m \u001b[32m127.9/127.9 MB\u001b[0m \u001b[31m7.3 MB/s\u001b[0m eta \u001b[36m0:00:00\u001b[0m\n",
            "\u001b[?25hDownloading nvidia_cusparse_cu12-12.3.1.170-py3-none-manylinux2014_x86_64.whl (207.5 MB)\n",
            "\u001b[2K   \u001b[90m━━━━━━━━━━━━━━━━━━━━━━━━━━━━━━━━━━━━━━━━\u001b[0m \u001b[32m207.5/207.5 MB\u001b[0m \u001b[31m5.9 MB/s\u001b[0m eta \u001b[36m0:00:00\u001b[0m\n",
            "\u001b[?25hDownloading nvidia_nvjitlink_cu12-12.4.127-py3-none-manylinux2014_x86_64.whl (21.1 MB)\n",
            "\u001b[2K   \u001b[90m━━━━━━━━━━━━━━━━━━━━━━━━━━━━━━━━━━━━━━━━\u001b[0m \u001b[32m21.1/21.1 MB\u001b[0m \u001b[31m61.2 MB/s\u001b[0m eta \u001b[36m0:00:00\u001b[0m\n",
            "\u001b[?25hBuilding wheels for collected packages: fourier-neural-operator\n",
            "  Building wheel for fourier-neural-operator (setup.py) ... \u001b[?25l\u001b[?25hdone\n",
            "  Created wheel for fourier-neural-operator: filename=fourier_neural_operator-0.17-py3-none-any.whl size=44051 sha256=f989c902764262733319b58c6a01307cf040b1ced3c34adbec3649da73603a70\n",
            "  Stored in directory: /root/.cache/pip/wheels/0f/27/10/564c86b4f0c5cc1e9879e918ab83cee0565de783aa748cbf3d\n",
            "Successfully built fourier-neural-operator\n",
            "Installing collected packages: einops, nvidia-nvjitlink-cu12, nvidia-curand-cu12, nvidia-cufft-cu12, nvidia-cuda-runtime-cu12, nvidia-cuda-nvrtc-cu12, nvidia-cuda-cupti-cu12, nvidia-cublas-cu12, nvidia-cusparse-cu12, nvidia-cudnn-cu12, nvidia-cusolver-cu12, fourier-neural-operator\n",
            "  Attempting uninstall: einops\n",
            "    Found existing installation: einops 0.8.1\n",
            "    Uninstalling einops-0.8.1:\n",
            "      Successfully uninstalled einops-0.8.1\n",
            "  Attempting uninstall: nvidia-nvjitlink-cu12\n",
            "    Found existing installation: nvidia-nvjitlink-cu12 12.5.82\n",
            "    Uninstalling nvidia-nvjitlink-cu12-12.5.82:\n",
            "      Successfully uninstalled nvidia-nvjitlink-cu12-12.5.82\n",
            "  Attempting uninstall: nvidia-curand-cu12\n",
            "    Found existing installation: nvidia-curand-cu12 10.3.6.82\n",
            "    Uninstalling nvidia-curand-cu12-10.3.6.82:\n",
            "      Successfully uninstalled nvidia-curand-cu12-10.3.6.82\n",
            "  Attempting uninstall: nvidia-cufft-cu12\n",
            "    Found existing installation: nvidia-cufft-cu12 11.2.3.61\n",
            "    Uninstalling nvidia-cufft-cu12-11.2.3.61:\n",
            "      Successfully uninstalled nvidia-cufft-cu12-11.2.3.61\n",
            "  Attempting uninstall: nvidia-cuda-runtime-cu12\n",
            "    Found existing installation: nvidia-cuda-runtime-cu12 12.5.82\n",
            "    Uninstalling nvidia-cuda-runtime-cu12-12.5.82:\n",
            "      Successfully uninstalled nvidia-cuda-runtime-cu12-12.5.82\n",
            "  Attempting uninstall: nvidia-cuda-nvrtc-cu12\n",
            "    Found existing installation: nvidia-cuda-nvrtc-cu12 12.5.82\n",
            "    Uninstalling nvidia-cuda-nvrtc-cu12-12.5.82:\n",
            "      Successfully uninstalled nvidia-cuda-nvrtc-cu12-12.5.82\n",
            "  Attempting uninstall: nvidia-cuda-cupti-cu12\n",
            "    Found existing installation: nvidia-cuda-cupti-cu12 12.5.82\n",
            "    Uninstalling nvidia-cuda-cupti-cu12-12.5.82:\n",
            "      Successfully uninstalled nvidia-cuda-cupti-cu12-12.5.82\n",
            "  Attempting uninstall: nvidia-cublas-cu12\n",
            "    Found existing installation: nvidia-cublas-cu12 12.5.3.2\n",
            "    Uninstalling nvidia-cublas-cu12-12.5.3.2:\n",
            "      Successfully uninstalled nvidia-cublas-cu12-12.5.3.2\n",
            "  Attempting uninstall: nvidia-cusparse-cu12\n",
            "    Found existing installation: nvidia-cusparse-cu12 12.5.1.3\n",
            "    Uninstalling nvidia-cusparse-cu12-12.5.1.3:\n",
            "      Successfully uninstalled nvidia-cusparse-cu12-12.5.1.3\n",
            "  Attempting uninstall: nvidia-cudnn-cu12\n",
            "    Found existing installation: nvidia-cudnn-cu12 9.3.0.75\n",
            "    Uninstalling nvidia-cudnn-cu12-9.3.0.75:\n",
            "      Successfully uninstalled nvidia-cudnn-cu12-9.3.0.75\n",
            "  Attempting uninstall: nvidia-cusolver-cu12\n",
            "    Found existing installation: nvidia-cusolver-cu12 11.6.3.83\n",
            "    Uninstalling nvidia-cusolver-cu12-11.6.3.83:\n",
            "      Successfully uninstalled nvidia-cusolver-cu12-11.6.3.83\n",
            "Successfully installed einops-0.3.2 fourier-neural-operator-0.17 nvidia-cublas-cu12-12.4.5.8 nvidia-cuda-cupti-cu12-12.4.127 nvidia-cuda-nvrtc-cu12-12.4.127 nvidia-cuda-runtime-cu12-12.4.127 nvidia-cudnn-cu12-9.1.0.70 nvidia-cufft-cu12-11.2.1.3 nvidia-curand-cu12-10.3.5.147 nvidia-cusolver-cu12-11.6.1.9 nvidia-cusparse-cu12-12.3.1.170 nvidia-nvjitlink-cu12-12.4.127\n"
          ]
        }
      ]
    },
    {
      "cell_type": "code",
      "source": [
        "import fourier_neural_operator"
      ],
      "metadata": {
        "id": "JHP5130iVh0w"
      },
      "execution_count": 6,
      "outputs": []
    },
    {
      "cell_type": "code",
      "source": [
        "print(\"GPU available:\", torch.cuda.is_available())"
      ],
      "metadata": {
        "colab": {
          "base_uri": "https://localhost:8080/",
          "height": 0
        },
        "id": "enV3jX33WIUo",
        "outputId": "95c33572-3d49-4f98-cbee-d6519270e371"
      },
      "execution_count": 7,
      "outputs": [
        {
          "output_type": "stream",
          "name": "stdout",
          "text": [
            "GPU available: False\n"
          ]
        }
      ]
    },
    {
      "cell_type": "markdown",
      "source": [
        "# Fake 3D gas clouds for toy data analysis and FNO model analysis on data"
      ],
      "metadata": {
        "id": "xz7pdQucM7Ki"
      }
    },
    {
      "cell_type": "code",
      "source": [
        "#Tensor using in Pytorch\n",
        "import torch.nn as nn\n",
        "import torch.nn.functional as F"
      ],
      "metadata": {
        "id": "c6FK3DTzM6s_"
      },
      "execution_count": 8,
      "outputs": []
    },
    {
      "cell_type": "code",
      "source": [
        "# Building 3d Fake gas blob\n",
        "# Defining conditions, parameters"
      ],
      "metadata": {
        "id": "01fcq42oNGRB"
      },
      "execution_count": 9,
      "outputs": []
    },
    {
      "cell_type": "code",
      "source": [
        "!pip install porespy scikit-image"
      ],
      "metadata": {
        "colab": {
          "base_uri": "https://localhost:8080/",
          "height": 0
        },
        "collapsed": true,
        "id": "fYSisARqhogb",
        "outputId": "6e057a05-115e-46a1-8291-41d0ceca2ba6"
      },
      "execution_count": 10,
      "outputs": [
        {
          "output_type": "stream",
          "name": "stdout",
          "text": [
            "Collecting porespy\n",
            "  Downloading porespy-2.4.2-py3-none-any.whl.metadata (9.4 kB)\n",
            "Requirement already satisfied: scikit-image in /usr/local/lib/python3.11/dist-packages (0.25.2)\n",
            "Requirement already satisfied: dask in /usr/local/lib/python3.11/dist-packages (from porespy) (2025.5.0)\n",
            "Collecting deprecated (from porespy)\n",
            "  Downloading Deprecated-1.2.18-py2.py3-none-any.whl.metadata (5.7 kB)\n",
            "Collecting edt (from porespy)\n",
            "  Downloading edt-3.0.0-cp311-cp311-manylinux_2_17_x86_64.manylinux2014_x86_64.whl.metadata (24 kB)\n",
            "Requirement already satisfied: matplotlib in /usr/local/lib/python3.11/dist-packages (from porespy) (3.10.0)\n",
            "Requirement already satisfied: numba in /usr/local/lib/python3.11/dist-packages (from porespy) (0.60.0)\n",
            "Requirement already satisfied: numpy in /usr/local/lib/python3.11/dist-packages (from porespy) (2.0.2)\n",
            "Collecting openpnm (from porespy)\n",
            "  Downloading openpnm-3.5.0-py3-none-any.whl.metadata (5.5 kB)\n",
            "Requirement already satisfied: pandas in /usr/local/lib/python3.11/dist-packages (from porespy) (2.2.2)\n",
            "Requirement already satisfied: psutil in /usr/local/lib/python3.11/dist-packages (from porespy) (5.9.5)\n",
            "Requirement already satisfied: pywavelets in /usr/local/lib/python3.11/dist-packages (from porespy) (1.8.0)\n",
            "Requirement already satisfied: rich in /usr/local/lib/python3.11/dist-packages (from porespy) (13.9.4)\n",
            "Collecting scikit-image\n",
            "  Downloading scikit_image-0.24.0-cp311-cp311-manylinux_2_17_x86_64.manylinux2014_x86_64.whl.metadata (14 kB)\n",
            "Requirement already satisfied: scipy in /usr/local/lib/python3.11/dist-packages (from porespy) (1.16.0)\n",
            "Requirement already satisfied: setuptools in /usr/local/lib/python3.11/dist-packages (from porespy) (75.2.0)\n",
            "Requirement already satisfied: tqdm in /usr/local/lib/python3.11/dist-packages (from porespy) (4.67.1)\n",
            "Requirement already satisfied: networkx>=2.8 in /usr/local/lib/python3.11/dist-packages (from scikit-image) (3.5)\n",
            "Requirement already satisfied: pillow>=9.1 in /usr/local/lib/python3.11/dist-packages (from scikit-image) (11.3.0)\n",
            "Requirement already satisfied: imageio>=2.33 in /usr/local/lib/python3.11/dist-packages (from scikit-image) (2.37.0)\n",
            "Requirement already satisfied: tifffile>=2022.8.12 in /usr/local/lib/python3.11/dist-packages (from scikit-image) (2025.6.11)\n",
            "Requirement already satisfied: packaging>=21 in /usr/local/lib/python3.11/dist-packages (from scikit-image) (25.0)\n",
            "Requirement already satisfied: lazy-loader>=0.4 in /usr/local/lib/python3.11/dist-packages (from scikit-image) (0.4)\n",
            "Requirement already satisfied: click>=8.1 in /usr/local/lib/python3.11/dist-packages (from dask->porespy) (8.2.1)\n",
            "Requirement already satisfied: cloudpickle>=3.0.0 in /usr/local/lib/python3.11/dist-packages (from dask->porespy) (3.1.1)\n",
            "Requirement already satisfied: fsspec>=2021.09.0 in /usr/local/lib/python3.11/dist-packages (from dask->porespy) (2025.3.0)\n",
            "Requirement already satisfied: partd>=1.4.0 in /usr/local/lib/python3.11/dist-packages (from dask->porespy) (1.4.2)\n",
            "Requirement already satisfied: pyyaml>=5.3.1 in /usr/local/lib/python3.11/dist-packages (from dask->porespy) (6.0.2)\n",
            "Requirement already satisfied: toolz>=0.10.0 in /usr/local/lib/python3.11/dist-packages (from dask->porespy) (0.12.1)\n",
            "Requirement already satisfied: importlib_metadata>=4.13.0 in /usr/local/lib/python3.11/dist-packages (from dask->porespy) (8.7.0)\n",
            "Requirement already satisfied: wrapt<2,>=1.10 in /usr/local/lib/python3.11/dist-packages (from deprecated->porespy) (1.17.2)\n",
            "Requirement already satisfied: contourpy>=1.0.1 in /usr/local/lib/python3.11/dist-packages (from matplotlib->porespy) (1.3.2)\n",
            "Requirement already satisfied: cycler>=0.10 in /usr/local/lib/python3.11/dist-packages (from matplotlib->porespy) (0.12.1)\n",
            "Requirement already satisfied: fonttools>=4.22.0 in /usr/local/lib/python3.11/dist-packages (from matplotlib->porespy) (4.59.0)\n",
            "Requirement already satisfied: kiwisolver>=1.3.1 in /usr/local/lib/python3.11/dist-packages (from matplotlib->porespy) (1.4.8)\n",
            "Requirement already satisfied: pyparsing>=2.3.1 in /usr/local/lib/python3.11/dist-packages (from matplotlib->porespy) (3.2.3)\n",
            "Requirement already satisfied: python-dateutil>=2.7 in /usr/local/lib/python3.11/dist-packages (from matplotlib->porespy) (2.9.0.post0)\n",
            "Requirement already satisfied: llvmlite<0.44,>=0.43.0dev0 in /usr/local/lib/python3.11/dist-packages (from numba->porespy) (0.43.0)\n",
            "Collecting chemicals (from openpnm->porespy)\n",
            "  Downloading chemicals-1.3.3-py3-none-any.whl.metadata (12 kB)\n",
            "Collecting docrep (from openpnm->porespy)\n",
            "  Downloading docrep-0.3.2.tar.gz (33 kB)\n",
            "  Preparing metadata (setup.py) ... \u001b[?25l\u001b[?25hdone\n",
            "Requirement already satisfied: h5py in /usr/local/lib/python3.11/dist-packages (from openpnm->porespy) (3.14.0)\n",
            "Requirement already satisfied: jsonschema in /usr/local/lib/python3.11/dist-packages (from openpnm->porespy) (4.25.0)\n",
            "Collecting pyamg (from openpnm->porespy)\n",
            "  Downloading pyamg-5.2.1-cp311-cp311-manylinux_2_17_x86_64.manylinux2014_x86_64.whl.metadata (8.1 kB)\n",
            "Requirement already satisfied: sympy in /usr/local/lib/python3.11/dist-packages (from openpnm->porespy) (1.13.1)\n",
            "Collecting thermo (from openpnm->porespy)\n",
            "  Downloading thermo-0.4.2-py3-none-any.whl.metadata (12 kB)\n",
            "Collecting transforms3d (from openpnm->porespy)\n",
            "  Downloading transforms3d-0.4.2-py3-none-any.whl.metadata (2.8 kB)\n",
            "Requirement already satisfied: pytz>=2020.1 in /usr/local/lib/python3.11/dist-packages (from pandas->porespy) (2025.2)\n",
            "Requirement already satisfied: tzdata>=2022.7 in /usr/local/lib/python3.11/dist-packages (from pandas->porespy) (2025.2)\n",
            "Requirement already satisfied: markdown-it-py>=2.2.0 in /usr/local/lib/python3.11/dist-packages (from rich->porespy) (3.0.0)\n",
            "Requirement already satisfied: pygments<3.0.0,>=2.13.0 in /usr/local/lib/python3.11/dist-packages (from rich->porespy) (2.19.2)\n",
            "Requirement already satisfied: zipp>=3.20 in /usr/local/lib/python3.11/dist-packages (from importlib_metadata>=4.13.0->dask->porespy) (3.23.0)\n",
            "Requirement already satisfied: mdurl~=0.1 in /usr/local/lib/python3.11/dist-packages (from markdown-it-py>=2.2.0->rich->porespy) (0.1.2)\n",
            "Requirement already satisfied: locket in /usr/local/lib/python3.11/dist-packages (from partd>=1.4.0->dask->porespy) (1.0.0)\n",
            "Requirement already satisfied: six>=1.5 in /usr/local/lib/python3.11/dist-packages (from python-dateutil>=2.7->matplotlib->porespy) (1.17.0)\n",
            "Collecting fluids>=1.1.0 (from chemicals->openpnm->porespy)\n",
            "  Downloading fluids-1.1.0-py3-none-any.whl.metadata (7.2 kB)\n",
            "Requirement already satisfied: attrs>=22.2.0 in /usr/local/lib/python3.11/dist-packages (from jsonschema->openpnm->porespy) (25.3.0)\n",
            "Requirement already satisfied: jsonschema-specifications>=2023.03.6 in /usr/local/lib/python3.11/dist-packages (from jsonschema->openpnm->porespy) (2025.4.1)\n",
            "Requirement already satisfied: referencing>=0.28.4 in /usr/local/lib/python3.11/dist-packages (from jsonschema->openpnm->porespy) (0.36.2)\n",
            "Requirement already satisfied: rpds-py>=0.7.1 in /usr/local/lib/python3.11/dist-packages (from jsonschema->openpnm->porespy) (0.26.0)\n",
            "Requirement already satisfied: mpmath<1.4,>=1.1.0 in /usr/local/lib/python3.11/dist-packages (from sympy->openpnm->porespy) (1.3.0)\n",
            "Requirement already satisfied: typing-extensions>=4.4.0 in /usr/local/lib/python3.11/dist-packages (from referencing>=0.28.4->jsonschema->openpnm->porespy) (4.14.1)\n",
            "Downloading porespy-2.4.2-py3-none-any.whl (164 kB)\n",
            "\u001b[2K   \u001b[90m━━━━━━━━━━━━━━━━━━━━━━━━━━━━━━━━━━━━━━━━\u001b[0m \u001b[32m164.7/164.7 kB\u001b[0m \u001b[31m6.8 MB/s\u001b[0m eta \u001b[36m0:00:00\u001b[0m\n",
            "\u001b[?25hDownloading scikit_image-0.24.0-cp311-cp311-manylinux_2_17_x86_64.manylinux2014_x86_64.whl (14.9 MB)\n",
            "\u001b[2K   \u001b[90m━━━━━━━━━━━━━━━━━━━━━━━━━━━━━━━━━━━━━━━━\u001b[0m \u001b[32m14.9/14.9 MB\u001b[0m \u001b[31m21.5 MB/s\u001b[0m eta \u001b[36m0:00:00\u001b[0m\n",
            "\u001b[?25hDownloading Deprecated-1.2.18-py2.py3-none-any.whl (10.0 kB)\n",
            "Downloading edt-3.0.0-cp311-cp311-manylinux_2_17_x86_64.manylinux2014_x86_64.whl (3.1 MB)\n",
            "\u001b[2K   \u001b[90m━━━━━━━━━━━━━━━━━━━━━━━━━━━━━━━━━━━━━━━━\u001b[0m \u001b[32m3.1/3.1 MB\u001b[0m \u001b[31m37.2 MB/s\u001b[0m eta \u001b[36m0:00:00\u001b[0m\n",
            "\u001b[?25hDownloading openpnm-3.5.0-py3-none-any.whl (304 kB)\n",
            "\u001b[2K   \u001b[90m━━━━━━━━━━━━━━━━━━━━━━━━━━━━━━━━━━━━━━━━\u001b[0m \u001b[32m304.5/304.5 kB\u001b[0m \u001b[31m13.3 MB/s\u001b[0m eta \u001b[36m0:00:00\u001b[0m\n",
            "\u001b[?25hDownloading chemicals-1.3.3-py3-none-any.whl (26.9 MB)\n",
            "\u001b[2K   \u001b[90m━━━━━━━━━━━━━━━━━━━━━━━━━━━━━━━━━━━━━━━━\u001b[0m \u001b[32m26.9/26.9 MB\u001b[0m \u001b[31m29.3 MB/s\u001b[0m eta \u001b[36m0:00:00\u001b[0m\n",
            "\u001b[?25hDownloading pyamg-5.2.1-cp311-cp311-manylinux_2_17_x86_64.manylinux2014_x86_64.whl (2.0 MB)\n",
            "\u001b[2K   \u001b[90m━━━━━━━━━━━━━━━━━━━━━━━━━━━━━━━━━━━━━━━━\u001b[0m \u001b[32m2.0/2.0 MB\u001b[0m \u001b[31m35.3 MB/s\u001b[0m eta \u001b[36m0:00:00\u001b[0m\n",
            "\u001b[?25hDownloading thermo-0.4.2-py3-none-any.whl (6.8 MB)\n",
            "\u001b[2K   \u001b[90m━━━━━━━━━━━━━━━━━━━━━━━━━━━━━━━━━━━━━━━━\u001b[0m \u001b[32m6.8/6.8 MB\u001b[0m \u001b[31m21.5 MB/s\u001b[0m eta \u001b[36m0:00:00\u001b[0m\n",
            "\u001b[?25hDownloading transforms3d-0.4.2-py3-none-any.whl (1.4 MB)\n",
            "\u001b[2K   \u001b[90m━━━━━━━━━━━━━━━━━━━━━━━━━━━━━━━━━━━━━━━━\u001b[0m \u001b[32m1.4/1.4 MB\u001b[0m \u001b[31m17.5 MB/s\u001b[0m eta \u001b[36m0:00:00\u001b[0m\n",
            "\u001b[?25hDownloading fluids-1.1.0-py3-none-any.whl (627 kB)\n",
            "\u001b[2K   \u001b[90m━━━━━━━━━━━━━━━━━━━━━━━━━━━━━━━━━━━━━━━━\u001b[0m \u001b[32m627.5/627.5 kB\u001b[0m \u001b[31m21.9 MB/s\u001b[0m eta \u001b[36m0:00:00\u001b[0m\n",
            "\u001b[?25hBuilding wheels for collected packages: docrep\n",
            "  Building wheel for docrep (setup.py) ... \u001b[?25l\u001b[?25hdone\n",
            "  Created wheel for docrep: filename=docrep-0.3.2-py3-none-any.whl size=19876 sha256=b79e6addb0a8e6acdb07036a32527482a52a8c33722fe284928256001962d946\n",
            "  Stored in directory: /root/.cache/pip/wheels/06/76/8f/0ecb7d357c0bff71a2bd1940671be2d07a200752da9189bb55\n",
            "Successfully built docrep\n",
            "Installing collected packages: transforms3d, edt, docrep, deprecated, scikit-image, pyamg, fluids, chemicals, thermo, openpnm, porespy\n",
            "  Attempting uninstall: scikit-image\n",
            "    Found existing installation: scikit-image 0.25.2\n",
            "    Uninstalling scikit-image-0.25.2:\n",
            "      Successfully uninstalled scikit-image-0.25.2\n",
            "Successfully installed chemicals-1.3.3 deprecated-1.2.18 docrep-0.3.2 edt-3.0.0 fluids-1.1.0 openpnm-3.5.0 porespy-2.4.2 pyamg-5.2.1 scikit-image-0.24.0 thermo-0.4.2 transforms3d-0.4.2\n"
          ]
        }
      ]
    },
    {
      "cell_type": "code",
      "source": [
        "# Building tiny random fluctuations , mean = 0 , std = 0.01\n",
        "# raw = torch.normal(0.0, 0.01, size =(N, C, D, H, W))\n",
        "import porespy as ps\n",
        "\n",
        "N = 200               #No of 3D cubes\n",
        "C= 1                  #Density Channel\n",
        "D, H, W = 32, 32, 32  #Depth, Height, Width of the cubes\n",
        "\n",
        "# Generate N pore-blob samples using PoreSpy\n",
        "blobs = []\n",
        "for _ in range(N):\n",
        "    blob = ps.generators.blobs(shape=[D, H, W], porosity=0.6, blobiness=1)\n",
        "    blobs.append(blob.astype(np.float32))\n",
        "\n",
        "# Convert to PyTorch tensor and reshape to [N, 1, D, H, W]\n",
        "init_conditions = torch.tensor(np.stack(blobs))[:, None]\n",
        "\n",
        "# Apply smoothing to soften the hard 0/1 binary field\n",
        "init_conditions = F.avg_pool3d(init_conditions, kernel_size=3, stride=1, padding=1)"
      ],
      "metadata": {
        "colab": {
          "base_uri": "https://localhost:8080/",
          "height": 0
        },
        "id": "UsFgTcyOWLTJ",
        "outputId": "9151dacc-e4ab-454d-8abc-e00593780d5c"
      },
      "execution_count": 11,
      "outputs": [
        {
          "output_type": "stream",
          "name": "stderr",
          "text": [
            "ERROR:openpnm:PARDISO solver not installed, run `pip install pypardiso`. Otherwise, simulations will be slow. Apple M chips not supported.\n"
          ]
        }
      ]
    },
    {
      "cell_type": "code",
      "source": [
        "# Apply average pooling (local smoothing) to mimic simple real conditions of gas blob as that of big bang\n",
        "#smoothed = F.avg_pool3d(raw, kernel_size=3, stride=1, padding=1)\n",
        "# Initial conditions data\n",
        "#init_conditions = smoothed"
      ],
      "metadata": {
        "id": "7IWaklQ8QwJS"
      },
      "execution_count": 12,
      "outputs": []
    },
    {
      "cell_type": "markdown",
      "source": [
        "🔹 Why Density Field?\n",
        "In cosmology:\n",
        "\n",
        "ρ(x, y, z) = matter density at point in space\n",
        "\n",
        "Over time, gravity makes over-densities grow, forming galaxies & clusters\n",
        "\n",
        "We want FNO to learn this structure formation\n",
        "\n",
        "🔹 What FNO Will Learn:\n",
        "Given input:\n",
        "\n",
        "x₀ = ρ(x, y, z, t = 0)\n",
        "It will predict:\n",
        "\n",
        "x_T = ρ(x, y, z, t = T)\n",
        "Right now, x_T is fake (smoothing), but structure-wise it prepares you for real gravitational data later."
      ],
      "metadata": {
        "id": "gIzGC8SzVgHZ"
      }
    },
    {
      "cell_type": "code",
      "source": [
        "# Generating Fake ouput for the fake input data\n",
        "def evolve_density(x, steps = 10):\n",
        "  for _ in range(steps):\n",
        "    x = F.avg_pool3d(x, kernel_size=3, stride=1, padding=1)\n",
        "  return x\n",
        "\n",
        "# Target output (final condition after 'evolution')\n",
        "target = evolve_density(init_conditions)"
      ],
      "metadata": {
        "id": "1LKD2pPbUf67"
      },
      "execution_count": 13,
      "outputs": []
    },
    {
      "cell_type": "code",
      "source": [
        "!pip install neuraloperator"
      ],
      "metadata": {
        "colab": {
          "base_uri": "https://localhost:8080/",
          "height": 0
        },
        "collapsed": true,
        "id": "HcrU3X1HWbSI",
        "outputId": "0e9ee7ad-667c-454a-aecf-5776847e5999"
      },
      "execution_count": 14,
      "outputs": [
        {
          "output_type": "stream",
          "name": "stdout",
          "text": [
            "Collecting neuraloperator\n",
            "  Downloading neuraloperator-1.0.2-py3-none-any.whl.metadata (7.5 kB)\n",
            "Requirement already satisfied: wandb in /usr/local/lib/python3.11/dist-packages (from neuraloperator) (0.21.0)\n",
            "Collecting ruamel-yaml (from neuraloperator)\n",
            "  Downloading ruamel.yaml-0.18.14-py3-none-any.whl.metadata (24 kB)\n",
            "Collecting configmypy (from neuraloperator)\n",
            "  Downloading configmypy-0.2.0-py3-none-any.whl.metadata (5.0 kB)\n",
            "Collecting tensorly (from neuraloperator)\n",
            "  Downloading tensorly-0.9.0-py3-none-any.whl.metadata (8.6 kB)\n",
            "Collecting tensorly-torch (from neuraloperator)\n",
            "  Downloading tensorly_torch-0.5.0-py3-none-any.whl.metadata (4.6 kB)\n",
            "Collecting torch-harmonics==0.7.3 (from neuraloperator)\n",
            "  Downloading torch_harmonics-0.7.3.tar.gz (3.7 MB)\n",
            "\u001b[2K     \u001b[90m━━━━━━━━━━━━━━━━━━━━━━━━━━━━━━━━━━━━━━━━\u001b[0m \u001b[32m3.7/3.7 MB\u001b[0m \u001b[31m35.4 MB/s\u001b[0m eta \u001b[36m0:00:00\u001b[0m\n",
            "\u001b[?25h  Installing build dependencies ... \u001b[?25l\u001b[?25hdone\n",
            "  Getting requirements to build wheel ... \u001b[?25l\u001b[?25hdone\n",
            "  Preparing metadata (pyproject.toml) ... \u001b[?25l\u001b[?25hdone\n",
            "Requirement already satisfied: matplotlib in /usr/local/lib/python3.11/dist-packages (from neuraloperator) (3.10.0)\n",
            "Requirement already satisfied: numpy>=1.25 in /usr/local/lib/python3.11/dist-packages (from neuraloperator) (2.0.2)\n",
            "Requirement already satisfied: opt-einsum in /usr/local/lib/python3.11/dist-packages (from neuraloperator) (3.4.0)\n",
            "Requirement already satisfied: h5py in /usr/local/lib/python3.11/dist-packages (from neuraloperator) (3.14.0)\n",
            "Collecting zarr (from neuraloperator)\n",
            "  Downloading zarr-3.1.1-py3-none-any.whl.metadata (10 kB)\n",
            "Requirement already satisfied: torch>=2.4.0 in /usr/local/lib/python3.11/dist-packages (from torch-harmonics==0.7.3->neuraloperator) (2.6.0+cu124)\n",
            "Requirement already satisfied: pytest in /usr/local/lib/python3.11/dist-packages (from configmypy->neuraloperator) (8.4.1)\n",
            "Collecting pytest-mock (from configmypy->neuraloperator)\n",
            "  Downloading pytest_mock-3.14.1-py3-none-any.whl.metadata (3.9 kB)\n",
            "Requirement already satisfied: contourpy>=1.0.1 in /usr/local/lib/python3.11/dist-packages (from matplotlib->neuraloperator) (1.3.2)\n",
            "Requirement already satisfied: cycler>=0.10 in /usr/local/lib/python3.11/dist-packages (from matplotlib->neuraloperator) (0.12.1)\n",
            "Requirement already satisfied: fonttools>=4.22.0 in /usr/local/lib/python3.11/dist-packages (from matplotlib->neuraloperator) (4.59.0)\n",
            "Requirement already satisfied: kiwisolver>=1.3.1 in /usr/local/lib/python3.11/dist-packages (from matplotlib->neuraloperator) (1.4.8)\n",
            "Requirement already satisfied: packaging>=20.0 in /usr/local/lib/python3.11/dist-packages (from matplotlib->neuraloperator) (25.0)\n",
            "Requirement already satisfied: pillow>=8 in /usr/local/lib/python3.11/dist-packages (from matplotlib->neuraloperator) (11.3.0)\n",
            "Requirement already satisfied: pyparsing>=2.3.1 in /usr/local/lib/python3.11/dist-packages (from matplotlib->neuraloperator) (3.2.3)\n",
            "Requirement already satisfied: python-dateutil>=2.7 in /usr/local/lib/python3.11/dist-packages (from matplotlib->neuraloperator) (2.9.0.post0)\n",
            "Collecting ruamel.yaml.clib>=0.2.7 (from ruamel-yaml->neuraloperator)\n",
            "  Downloading ruamel.yaml.clib-0.2.12-cp311-cp311-manylinux_2_17_x86_64.manylinux2014_x86_64.whl.metadata (2.7 kB)\n",
            "Requirement already satisfied: scipy in /usr/local/lib/python3.11/dist-packages (from tensorly->neuraloperator) (1.16.0)\n",
            "Requirement already satisfied: click!=8.0.0,>=7.1 in /usr/local/lib/python3.11/dist-packages (from wandb->neuraloperator) (8.2.1)\n",
            "Requirement already satisfied: gitpython!=3.1.29,>=1.0.0 in /usr/local/lib/python3.11/dist-packages (from wandb->neuraloperator) (3.1.45)\n",
            "Requirement already satisfied: platformdirs in /usr/local/lib/python3.11/dist-packages (from wandb->neuraloperator) (4.3.8)\n",
            "Requirement already satisfied: protobuf!=4.21.0,!=5.28.0,<7,>=3.19.0 in /usr/local/lib/python3.11/dist-packages (from wandb->neuraloperator) (5.29.5)\n",
            "Requirement already satisfied: pydantic<3 in /usr/local/lib/python3.11/dist-packages (from wandb->neuraloperator) (2.11.7)\n",
            "Requirement already satisfied: pyyaml in /usr/local/lib/python3.11/dist-packages (from wandb->neuraloperator) (6.0.2)\n",
            "Requirement already satisfied: requests<3,>=2.0.0 in /usr/local/lib/python3.11/dist-packages (from wandb->neuraloperator) (2.32.3)\n",
            "Requirement already satisfied: sentry-sdk>=2.0.0 in /usr/local/lib/python3.11/dist-packages (from wandb->neuraloperator) (2.33.2)\n",
            "Requirement already satisfied: typing-extensions<5,>=4.8 in /usr/local/lib/python3.11/dist-packages (from wandb->neuraloperator) (4.14.1)\n",
            "Collecting donfig>=0.8 (from zarr->neuraloperator)\n",
            "  Downloading donfig-0.8.1.post1-py3-none-any.whl.metadata (5.0 kB)\n",
            "Collecting numcodecs>=0.14 (from numcodecs[crc32c]>=0.14->zarr->neuraloperator)\n",
            "  Downloading numcodecs-0.16.1-cp311-cp311-manylinux_2_17_x86_64.manylinux2014_x86_64.whl.metadata (3.3 kB)\n",
            "Requirement already satisfied: gitdb<5,>=4.0.1 in /usr/local/lib/python3.11/dist-packages (from gitpython!=3.1.29,>=1.0.0->wandb->neuraloperator) (4.0.12)\n",
            "Collecting crc32c>=2.7 (from numcodecs[crc32c]>=0.14->zarr->neuraloperator)\n",
            "  Downloading crc32c-2.7.1-cp311-cp311-manylinux_2_5_x86_64.manylinux1_x86_64.manylinux_2_17_x86_64.manylinux2014_x86_64.whl.metadata (7.3 kB)\n",
            "Requirement already satisfied: annotated-types>=0.6.0 in /usr/local/lib/python3.11/dist-packages (from pydantic<3->wandb->neuraloperator) (0.7.0)\n",
            "Requirement already satisfied: pydantic-core==2.33.2 in /usr/local/lib/python3.11/dist-packages (from pydantic<3->wandb->neuraloperator) (2.33.2)\n",
            "Requirement already satisfied: typing-inspection>=0.4.0 in /usr/local/lib/python3.11/dist-packages (from pydantic<3->wandb->neuraloperator) (0.4.1)\n",
            "Requirement already satisfied: six>=1.5 in /usr/local/lib/python3.11/dist-packages (from python-dateutil>=2.7->matplotlib->neuraloperator) (1.17.0)\n",
            "Requirement already satisfied: charset-normalizer<4,>=2 in /usr/local/lib/python3.11/dist-packages (from requests<3,>=2.0.0->wandb->neuraloperator) (3.4.2)\n",
            "Requirement already satisfied: idna<4,>=2.5 in /usr/local/lib/python3.11/dist-packages (from requests<3,>=2.0.0->wandb->neuraloperator) (3.10)\n",
            "Requirement already satisfied: urllib3<3,>=1.21.1 in /usr/local/lib/python3.11/dist-packages (from requests<3,>=2.0.0->wandb->neuraloperator) (2.5.0)\n",
            "Requirement already satisfied: certifi>=2017.4.17 in /usr/local/lib/python3.11/dist-packages (from requests<3,>=2.0.0->wandb->neuraloperator) (2025.7.14)\n",
            "Requirement already satisfied: filelock in /usr/local/lib/python3.11/dist-packages (from torch>=2.4.0->torch-harmonics==0.7.3->neuraloperator) (3.18.0)\n",
            "Requirement already satisfied: networkx in /usr/local/lib/python3.11/dist-packages (from torch>=2.4.0->torch-harmonics==0.7.3->neuraloperator) (3.5)\n",
            "Requirement already satisfied: jinja2 in /usr/local/lib/python3.11/dist-packages (from torch>=2.4.0->torch-harmonics==0.7.3->neuraloperator) (3.1.6)\n",
            "Requirement already satisfied: fsspec in /usr/local/lib/python3.11/dist-packages (from torch>=2.4.0->torch-harmonics==0.7.3->neuraloperator) (2025.3.0)\n",
            "Requirement already satisfied: nvidia-cuda-nvrtc-cu12==12.4.127 in /usr/local/lib/python3.11/dist-packages (from torch>=2.4.0->torch-harmonics==0.7.3->neuraloperator) (12.4.127)\n",
            "Requirement already satisfied: nvidia-cuda-runtime-cu12==12.4.127 in /usr/local/lib/python3.11/dist-packages (from torch>=2.4.0->torch-harmonics==0.7.3->neuraloperator) (12.4.127)\n",
            "Requirement already satisfied: nvidia-cuda-cupti-cu12==12.4.127 in /usr/local/lib/python3.11/dist-packages (from torch>=2.4.0->torch-harmonics==0.7.3->neuraloperator) (12.4.127)\n",
            "Requirement already satisfied: nvidia-cudnn-cu12==9.1.0.70 in /usr/local/lib/python3.11/dist-packages (from torch>=2.4.0->torch-harmonics==0.7.3->neuraloperator) (9.1.0.70)\n",
            "Requirement already satisfied: nvidia-cublas-cu12==12.4.5.8 in /usr/local/lib/python3.11/dist-packages (from torch>=2.4.0->torch-harmonics==0.7.3->neuraloperator) (12.4.5.8)\n",
            "Requirement already satisfied: nvidia-cufft-cu12==11.2.1.3 in /usr/local/lib/python3.11/dist-packages (from torch>=2.4.0->torch-harmonics==0.7.3->neuraloperator) (11.2.1.3)\n",
            "Requirement already satisfied: nvidia-curand-cu12==10.3.5.147 in /usr/local/lib/python3.11/dist-packages (from torch>=2.4.0->torch-harmonics==0.7.3->neuraloperator) (10.3.5.147)\n",
            "Requirement already satisfied: nvidia-cusolver-cu12==11.6.1.9 in /usr/local/lib/python3.11/dist-packages (from torch>=2.4.0->torch-harmonics==0.7.3->neuraloperator) (11.6.1.9)\n",
            "Requirement already satisfied: nvidia-cusparse-cu12==12.3.1.170 in /usr/local/lib/python3.11/dist-packages (from torch>=2.4.0->torch-harmonics==0.7.3->neuraloperator) (12.3.1.170)\n",
            "Requirement already satisfied: nvidia-cusparselt-cu12==0.6.2 in /usr/local/lib/python3.11/dist-packages (from torch>=2.4.0->torch-harmonics==0.7.3->neuraloperator) (0.6.2)\n",
            "Requirement already satisfied: nvidia-nccl-cu12==2.21.5 in /usr/local/lib/python3.11/dist-packages (from torch>=2.4.0->torch-harmonics==0.7.3->neuraloperator) (2.21.5)\n",
            "Requirement already satisfied: nvidia-nvtx-cu12==12.4.127 in /usr/local/lib/python3.11/dist-packages (from torch>=2.4.0->torch-harmonics==0.7.3->neuraloperator) (12.4.127)\n",
            "Requirement already satisfied: nvidia-nvjitlink-cu12==12.4.127 in /usr/local/lib/python3.11/dist-packages (from torch>=2.4.0->torch-harmonics==0.7.3->neuraloperator) (12.4.127)\n",
            "Requirement already satisfied: triton==3.2.0 in /usr/local/lib/python3.11/dist-packages (from torch>=2.4.0->torch-harmonics==0.7.3->neuraloperator) (3.2.0)\n",
            "Requirement already satisfied: sympy==1.13.1 in /usr/local/lib/python3.11/dist-packages (from torch>=2.4.0->torch-harmonics==0.7.3->neuraloperator) (1.13.1)\n",
            "Requirement already satisfied: mpmath<1.4,>=1.1.0 in /usr/local/lib/python3.11/dist-packages (from sympy==1.13.1->torch>=2.4.0->torch-harmonics==0.7.3->neuraloperator) (1.3.0)\n",
            "Requirement already satisfied: iniconfig>=1 in /usr/local/lib/python3.11/dist-packages (from pytest->configmypy->neuraloperator) (2.1.0)\n",
            "Requirement already satisfied: pluggy<2,>=1.5 in /usr/local/lib/python3.11/dist-packages (from pytest->configmypy->neuraloperator) (1.6.0)\n",
            "Requirement already satisfied: pygments>=2.7.2 in /usr/local/lib/python3.11/dist-packages (from pytest->configmypy->neuraloperator) (2.19.2)\n",
            "Requirement already satisfied: smmap<6,>=3.0.1 in /usr/local/lib/python3.11/dist-packages (from gitdb<5,>=4.0.1->gitpython!=3.1.29,>=1.0.0->wandb->neuraloperator) (5.0.2)\n",
            "Requirement already satisfied: MarkupSafe>=2.0 in /usr/local/lib/python3.11/dist-packages (from jinja2->torch>=2.4.0->torch-harmonics==0.7.3->neuraloperator) (3.0.2)\n",
            "Downloading neuraloperator-1.0.2-py3-none-any.whl (186 kB)\n",
            "\u001b[2K   \u001b[90m━━━━━━━━━━━━━━━━━━━━━━━━━━━━━━━━━━━━━━━━\u001b[0m \u001b[32m186.9/186.9 kB\u001b[0m \u001b[31m11.7 MB/s\u001b[0m eta \u001b[36m0:00:00\u001b[0m\n",
            "\u001b[?25hDownloading configmypy-0.2.0-py3-none-any.whl (14 kB)\n",
            "Downloading ruamel.yaml-0.18.14-py3-none-any.whl (118 kB)\n",
            "\u001b[2K   \u001b[90m━━━━━━━━━━━━━━━━━━━━━━━━━━━━━━━━━━━━━━━━\u001b[0m \u001b[32m118.6/118.6 kB\u001b[0m \u001b[31m8.3 MB/s\u001b[0m eta \u001b[36m0:00:00\u001b[0m\n",
            "\u001b[?25hDownloading tensorly-0.9.0-py3-none-any.whl (7.4 MB)\n",
            "\u001b[2K   \u001b[90m━━━━━━━━━━━━━━━━━━━━━━━━━━━━━━━━━━━━━━━━\u001b[0m \u001b[32m7.4/7.4 MB\u001b[0m \u001b[31m96.5 MB/s\u001b[0m eta \u001b[36m0:00:00\u001b[0m\n",
            "\u001b[?25hDownloading tensorly_torch-0.5.0-py3-none-any.whl (59 kB)\n",
            "\u001b[2K   \u001b[90m━━━━━━━━━━━━━━━━━━━━━━━━━━━━━━━━━━━━━━━━\u001b[0m \u001b[32m59.3/59.3 kB\u001b[0m \u001b[31m3.6 MB/s\u001b[0m eta \u001b[36m0:00:00\u001b[0m\n",
            "\u001b[?25hDownloading zarr-3.1.1-py3-none-any.whl (255 kB)\n",
            "\u001b[2K   \u001b[90m━━━━━━━━━━━━━━━━━━━━━━━━━━━━━━━━━━━━━━━━\u001b[0m \u001b[32m255.4/255.4 kB\u001b[0m \u001b[31m16.2 MB/s\u001b[0m eta \u001b[36m0:00:00\u001b[0m\n",
            "\u001b[?25hDownloading donfig-0.8.1.post1-py3-none-any.whl (21 kB)\n",
            "Downloading numcodecs-0.16.1-cp311-cp311-manylinux_2_17_x86_64.manylinux2014_x86_64.whl (8.8 MB)\n",
            "\u001b[2K   \u001b[90m━━━━━━━━━━━━━━━━━━━━━━━━━━━━━━━━━━━━━━━━\u001b[0m \u001b[32m8.8/8.8 MB\u001b[0m \u001b[31m97.6 MB/s\u001b[0m eta \u001b[36m0:00:00\u001b[0m\n",
            "\u001b[?25hDownloading ruamel.yaml.clib-0.2.12-cp311-cp311-manylinux_2_17_x86_64.manylinux2014_x86_64.whl (739 kB)\n",
            "\u001b[2K   \u001b[90m━━━━━━━━━━━━━━━━━━━━━━━━━━━━━━━━━━━━━━━━\u001b[0m \u001b[32m739.1/739.1 kB\u001b[0m \u001b[31m37.7 MB/s\u001b[0m eta \u001b[36m0:00:00\u001b[0m\n",
            "\u001b[?25hDownloading pytest_mock-3.14.1-py3-none-any.whl (9.9 kB)\n",
            "Downloading crc32c-2.7.1-cp311-cp311-manylinux_2_5_x86_64.manylinux1_x86_64.manylinux_2_17_x86_64.manylinux2014_x86_64.whl (53 kB)\n",
            "\u001b[2K   \u001b[90m━━━━━━━━━━━━━━━━━━━━━━━━━━━━━━━━━━━━━━━━\u001b[0m \u001b[32m53.7/53.7 kB\u001b[0m \u001b[31m3.3 MB/s\u001b[0m eta \u001b[36m0:00:00\u001b[0m\n",
            "\u001b[?25hBuilding wheels for collected packages: torch-harmonics\n",
            "  Building wheel for torch-harmonics (pyproject.toml) ... \u001b[?25l\u001b[?25hdone\n",
            "  Created wheel for torch-harmonics: filename=torch_harmonics-0.7.3-py3-none-any.whl size=87749 sha256=ed8783c21ca6c84068bee6a022817d8e6b6c644a60b70e24729edb628a61db3a\n",
            "  Stored in directory: /root/.cache/pip/wheels/1e/32/30/3f507ec7dd7ff6a24abf08cf1ea4f3271f45ef792e9fabf807\n",
            "Successfully built torch-harmonics\n",
            "Installing collected packages: ruamel.yaml.clib, numcodecs, donfig, crc32c, tensorly-torch, tensorly, ruamel-yaml, pytest-mock, zarr, configmypy, torch-harmonics, neuraloperator\n",
            "Successfully installed configmypy-0.2.0 crc32c-2.7.1 donfig-0.8.1.post1 neuraloperator-1.0.2 numcodecs-0.16.1 pytest-mock-3.14.1 ruamel-yaml-0.18.14 ruamel.yaml.clib-0.2.12 tensorly-0.9.0 tensorly-torch-0.5.0 torch-harmonics-0.7.3 zarr-3.1.1\n"
          ]
        }
      ]
    },
    {
      "cell_type": "code",
      "source": [
        "from neuralop.models import FNO"
      ],
      "metadata": {
        "id": "qvypqgweRskq"
      },
      "execution_count": 15,
      "outputs": []
    },
    {
      "cell_type": "code",
      "source": [
        "# Split into training and test sets\n",
        "train_x = init_conditions[:160]\n",
        "train_y = target[:160]\n",
        "test_x = init_conditions[160:]\n",
        "test_y = target[160:]"
      ],
      "metadata": {
        "id": "F6fx_WUP28QM"
      },
      "execution_count": 16,
      "outputs": []
    },
    {
      "cell_type": "code",
      "source": [
        "# 🔧 Define the 3D Fourier Neural Operator model\n",
        "fno_model = FNO(\n",
        "    n_modes= (8, 8, 8),        # Number of Fourier modes in x, y, z directions (low-frequency filters)\n",
        "    hidden_channels=32,       # Width of internal representation (like feature maps)\n",
        "    in_channels=1,            # Input channels — here 1 scalar field (density)\n",
        "    out_channels=1,           # Output channels — predicting same field (density at t=T)\n",
        "    depth=4                   # Number of spectral layers stacked\n",
        ")\n"
      ],
      "metadata": {
        "id": "eU1klC43V8PP"
      },
      "execution_count": 17,
      "outputs": []
    },
    {
      "cell_type": "code",
      "source": [
        "# Testing with small sample size at first\n",
        "test_input = init_conditions[:8]  # Use only 8 samples\n",
        "output = fno_model(test_input)\n",
        "print(output.shape)  # Should be [8, 1, 32, 32, 32]"
      ],
      "metadata": {
        "colab": {
          "base_uri": "https://localhost:8080/",
          "height": 0
        },
        "id": "OrejZa3KY6bZ",
        "outputId": "02cb520e-7c4f-4857-d822-e9933d7b8eb8"
      },
      "execution_count": 18,
      "outputs": [
        {
          "output_type": "stream",
          "name": "stdout",
          "text": [
            "torch.Size([8, 1, 32, 32, 32])\n"
          ]
        }
      ]
    },
    {
      "cell_type": "code",
      "source": [
        "# Loss Function and Optimizer\n",
        "import torch.optim as optim\n",
        "\n",
        "# Loss: Mean Squared Error between predicted and target density fields\n",
        "loss_fn = nn.MSELoss()\n",
        "\n",
        "# Optimizer: Adam\n",
        "optimizer = optim.Adam(fno_model.parameters(), lr=1e-3)"
      ],
      "metadata": {
        "id": "cTF9Y0q5XqyX"
      },
      "execution_count": 19,
      "outputs": []
    },
    {
      "cell_type": "code",
      "source": [
        "# 🔧 Training settings\n",
        "epochs = 10            # Number of times to go through the full dataset\n",
        "batch_size = 8         # Process 8 samples at a time (fits in memory)\n",
        "\n",
        "# 🔁 Main training loop\n",
        "for epoch in range(epochs):\n",
        "    fno_model.train()\n",
        "    for i in range(0, train_x.shape[0], batch_size):\n",
        "        x_batch = train_x[i:i+batch_size]\n",
        "        y_batch = train_y[i:i+batch_size]\n",
        "\n",
        "        # 🧼 Reset gradients\n",
        "        optimizer.zero_grad()\n",
        "\n",
        "        # 🔮 Run model forward pass to get prediction\n",
        "        output = fno_model(x_batch)\n",
        "\n",
        "        # 📉 Compute how far prediction is from true answer\n",
        "        loss = loss_fn(output, y_batch)\n",
        "\n",
        "        # 🔁 Backpropagate gradients through model\n",
        "        loss.backward()\n",
        "\n",
        "        # 🔧 Update model weights\n",
        "        optimizer.step()\n",
        "\n",
        "    # 🖨️ Print training loss at each epoch\n",
        "    print(f\"Epoch {epoch+1} | Loss: {loss.item():.6f}\")\n"
      ],
      "metadata": {
        "colab": {
          "base_uri": "https://localhost:8080/",
          "height": 0
        },
        "id": "GuOzE5s4Zt6C",
        "outputId": "dcc7c1f0-c31a-4cbf-f0f3-692be3dd2221"
      },
      "execution_count": 20,
      "outputs": [
        {
          "output_type": "stream",
          "name": "stdout",
          "text": [
            "Epoch 1 | Loss: 0.042958\n",
            "Epoch 2 | Loss: 0.029243\n",
            "Epoch 3 | Loss: 0.009057\n",
            "Epoch 4 | Loss: 0.003194\n",
            "Epoch 5 | Loss: 0.002044\n",
            "Epoch 6 | Loss: 0.001703\n",
            "Epoch 7 | Loss: 0.001510\n",
            "Epoch 8 | Loss: 0.001348\n",
            "Epoch 9 | Loss: 0.001174\n",
            "Epoch 10 | Loss: 0.000988\n"
          ]
        }
      ]
    },
    {
      "cell_type": "code",
      "source": [
        "# Running visualizations\n",
        "# Add This Function to Visualize a Single Sample:\n",
        "def show_slice_comparison(x, y_true, y_pred, slice_dim=2):\n",
        "    \"\"\"Visualize center slice of input, target, and prediction along given dimension (0=z, 1=y, 2=x).\"\"\"\n",
        "    idx = x.shape[slice_dim + 2] // 2  # center index\n",
        "\n",
        "    x_slice = x[0, 0].select(dim=slice_dim, index=idx).detach().cpu()\n",
        "    y_true_slice = y_true[0, 0].select(dim=slice_dim, index=idx).detach().cpu()\n",
        "    y_pred_slice = y_pred[0, 0].select(dim=slice_dim, index=idx).detach().cpu()\n",
        "\n",
        "    fig, axs = plt.subplots(1, 3, figsize=(12, 4))\n",
        "    axs[0].imshow(x_slice, cmap='viridis'); axs[0].set_title('Initial Condition')\n",
        "    axs[1].imshow(y_true_slice, cmap='viridis'); axs[1].set_title('Target (True)')\n",
        "    axs[2].imshow(y_pred_slice, cmap='viridis'); axs[2].set_title('FNO Output')\n",
        "    plt.tight_layout(); plt.show()\n"
      ],
      "metadata": {
        "id": "rfbOhQPjfMfb"
      },
      "execution_count": 21,
      "outputs": []
    },
    {
      "cell_type": "code",
      "source": [
        "# 📌 Set model to evaluation mode (turns off dropout, batchnorm, etc.)\n",
        "fno_model.eval()\n",
        "\n",
        "with torch.no_grad():\n",
        "    # 🔹 Predict on test set\n",
        "    pred_test = fno_model(test_x)\n",
        "    test_loss = loss_fn(pred_test, test_y)\n",
        "    print(f\"\\n📊 Test Loss: {test_loss.item():.6f}\")\n",
        "\n",
        "    # 🔹 Predict on full train set (to compare)\n",
        "    pred_train = fno_model(train_x)\n",
        "    train_eval_loss = loss_fn(pred_train, train_y)\n",
        "    print(f\"📊 Full Train Loss: {train_eval_loss.item():.6f}\")\n"
      ],
      "metadata": {
        "colab": {
          "base_uri": "https://localhost:8080/",
          "height": 0
        },
        "id": "F22AAt9B3T1R",
        "outputId": "67cb111f-c970-40e8-e9ed-b3b629225712"
      },
      "execution_count": 22,
      "outputs": [
        {
          "output_type": "stream",
          "name": "stdout",
          "text": [
            "\n",
            "📊 Test Loss: 0.000986\n",
            "📊 Full Train Loss: 0.000988\n"
          ]
        }
      ]
    },
    {
      "cell_type": "code",
      "source": [
        "# 🔍 Pick one test sample to visualize\n",
        "sample_idx = 0\n",
        "x_sample = test_x[sample_idx:sample_idx+1]\n",
        "y_sample = test_y[sample_idx:sample_idx+1]\n",
        "pred_sample = pred_test[sample_idx:sample_idx+1]\n",
        "\n",
        "# 📊 Visual slice comparison\n",
        "show_slice_comparison(x_sample, y_sample, pred_sample)"
      ],
      "metadata": {
        "colab": {
          "base_uri": "https://localhost:8080/",
          "height": 259
        },
        "id": "JuBbGzjN8nMH",
        "outputId": "15919940-0af0-430c-d579-67cca891e4be"
      },
      "execution_count": 23,
      "outputs": [
        {
          "output_type": "display_data",
          "data": {
            "text/plain": [
              "<Figure size 1200x400 with 3 Axes>"
            ],
            "image/png": "[encoded data removed]"
          },
          "metadata": {}
        }
      ]
    },
    {
      "cell_type": "markdown",
      "source": [
        "Initial condition now has realistic smooth variations\n",
        "\n",
        "Target and FNO output match almost perfectly\n",
        "\n",
        "Structure preservation is high — FNO is learning correct global mapping"
      ],
      "metadata": {
        "id": "bzbfDFG2uGce"
      }
    },
    {
      "cell_type": "code",
      "source": [],
      "metadata": {
        "id": "QLd_aS_4uHlc"
      },
      "execution_count": 23,
      "outputs": []
    },
    {
      "cell_type": "markdown",
      "source": [
        "# Improved FNO Model for Realistic Data (32³)"
      ],
      "metadata": {
        "id": "y_MS8GPZDBN0"
      }
    },
    {
      "cell_type": "code",
      "source": [
        "# Generate realistic input and target\n",
        "import torch\n",
        "import torch.nn.functional as F\n",
        "import numpy as np\n",
        "\n",
        "N = 200\n",
        "C = 1\n",
        "D, H, W = 32, 32, 32\n",
        "\n",
        "# Generate tiny smooth density fluctuations (Big Bang–like)\n",
        "raw = torch.randn(N, C, D, H, W) * 0.01\n",
        "init_conditions = F.avg_pool3d(raw, kernel_size=3, stride=1, padding=1)\n",
        "\n",
        "# --- NEW PHYSICS ENGINE ---\n",
        "# This function simulates one step of gravitational evolution\n",
        "def apply_gravity_step(density_field, dt=0.1):\n",
        "    \"\"\"Applies one step of gravitational evolution to a density field.\"\"\"\n",
        "    # 1. Go to Fourier space\n",
        "    density_fft = torch.fft.fftn(density_field, dim=[-3, -2, -1])\n",
        "\n",
        "    # 2. Get the grid of k-vectors (frequencies)\n",
        "    _D, _H, _W = density_field.shape[-3:]\n",
        "    _kx = torch.fft.fftfreq(_D, d=1/_D)\n",
        "    _ky = torch.fft.fftfreq(_H, d=1/_H)\n",
        "    _kz = torch.fft.fftfreq(_W, d=1/_W)\n",
        "    kx, ky, kz = torch.meshgrid(_kx, _ky, _kz, indexing='ij')\n",
        "    k_squared = kx**2 + ky**2 + kz**2\n",
        "    k_squared[0, 0, 0] = 1.0  # Avoid division by zero\n",
        "\n",
        "    # 3. Solve Poisson's equation and get the potential\n",
        "    # This makes over-dense regions grow\n",
        "    potential_fft = -1.0 * density_fft / k_squared\n",
        "\n",
        "    # 4. Evolve the density by adding a fraction of the potential\n",
        "    evolved_fft = density_fft + dt * potential_fft\n",
        "\n",
        "    # 5. Go back to real space\n",
        "    evolved_field = torch.fft.ifftn(evolved_fft, dim=[-3, -2, -1]).real\n",
        "    return evolved_field\n",
        "# --- END NEW PHYSICS ENGINE ---\n",
        "\n",
        "\n",
        "# Generate the target data using the NEW gravity function\n",
        "target = apply_gravity_step(init_conditions)\n",
        "\n",
        "print(\"Shape of initial conditions:\", init_conditions.shape)\n",
        "print(\"Shape of target:\", target.shape)"
      ],
      "metadata": {
        "colab": {
          "base_uri": "https://localhost:8080/"
        },
        "id": "z5zRnpzZG1rU",
        "outputId": "0680dbbf-595b-4aaa-aa6e-78e705013ac1"
      },
      "execution_count": 33,
      "outputs": [
        {
          "output_type": "stream",
          "name": "stdout",
          "text": [
            "Shape of initial conditions: torch.Size([200, 1, 32, 32, 32])\n",
            "Shape of target: torch.Size([200, 1, 32, 32, 32])\n"
          ]
        }
      ]
    },
    {
      "cell_type": "code",
      "source": [
        "# Train, Test, Split\n",
        "train_x = init_conditions[:160]\n",
        "train_y = target[:160]\n",
        "test_x = init_conditions[160:]\n",
        "test_y = target[160:]"
      ],
      "metadata": {
        "id": "uJRJwjE8I1UC"
      },
      "execution_count": 34,
      "outputs": []
    },
    {
      "cell_type": "code",
      "source": [
        "# Improved FNO model\n",
        "from neuralop.models import FNO\n",
        "import torch.nn as nn\n",
        "import torch.optim as optim\n",
        "\n",
        "fno_model = FNO(\n",
        "    n_modes=(16, 16, 16),\n",
        "    hidden_channels=48,\n",
        "    in_channels=1,\n",
        "    out_channels=1,\n",
        "    depth=6\n",
        ")\n",
        "\n",
        "loss_fn = nn.MSELoss()\n",
        "optimizer = optim.Adam(fno_model.parameters(), lr=1e-3)"
      ],
      "metadata": {
        "id": "_ZffzG6LI7KS"
      },
      "execution_count": 35,
      "outputs": []
    },
    {
      "cell_type": "code",
      "source": [
        "# Training Loop\n",
        "epochs = 10\n",
        "batch_size = 8\n",
        "\n",
        "for epoch in range(epochs):\n",
        "    fno_model.train()\n",
        "    for i in range(0, train_x.shape[0], batch_size):\n",
        "        x_batch = train_x[i:i+batch_size]\n",
        "        y_batch = train_y[i:i+batch_size]\n",
        "\n",
        "        optimizer.zero_grad()\n",
        "        output = fno_model(x_batch)\n",
        "        loss = loss_fn(output, y_batch)\n",
        "        loss.backward()\n",
        "        optimizer.step()\n",
        "\n",
        "    print(f\"Epoch {epoch+1} | Train Loss: {loss.item():.6f}\")"
      ],
      "metadata": {
        "colab": {
          "base_uri": "https://localhost:8080/"
        },
        "id": "Y3x038RkJCN0",
        "outputId": "b1f7ce2a-501e-4e5a-e602-25e6a4347ecf"
      },
      "execution_count": 36,
      "outputs": [
        {
          "output_type": "stream",
          "name": "stdout",
          "text": [
            "Epoch 1 | Train Loss: 0.000004\n",
            "Epoch 2 | Train Loss: 0.000007\n",
            "Epoch 3 | Train Loss: 0.000004\n",
            "Epoch 4 | Train Loss: 0.000004\n",
            "Epoch 5 | Train Loss: 0.000004\n",
            "Epoch 6 | Train Loss: 0.000003\n",
            "Epoch 7 | Train Loss: 0.000003\n",
            "Epoch 8 | Train Loss: 0.000003\n",
            "Epoch 9 | Train Loss: 0.000003\n",
            "Epoch 10 | Train Loss: 0.000003\n"
          ]
        }
      ]
    },
    {
      "cell_type": "code",
      "source": [
        "# Evaluation and Visualization\n",
        "fno_model.eval()\n",
        "with torch.no_grad():\n",
        "    pred_test = fno_model(test_x)\n",
        "    test_loss = loss_fn(pred_test, test_y)\n",
        "    print(f\"\\n📊 Test Loss: {test_loss.item():.6f}\")"
      ],
      "metadata": {
        "colab": {
          "base_uri": "https://localhost:8080/"
        },
        "id": "ijez8vy6JHgk",
        "outputId": "053bcc8a-ba42-4a4d-edee-74c8870c5365"
      },
      "execution_count": 37,
      "outputs": [
        {
          "output_type": "stream",
          "name": "stdout",
          "text": [
            "\n",
            "📊 Test Loss: 0.000003\n"
          ]
        }
      ]
    },
    {
      "cell_type": "code",
      "source": [
        "with torch.no_grad():\n",
        "    pred_train = fno_model(train_x)\n",
        "    train_eval_loss = loss_fn(pred_train, train_y)\n",
        "    print(f\"📊 Full Train Loss: {train_eval_loss.item():.6f}\")"
      ],
      "metadata": {
        "colab": {
          "base_uri": "https://localhost:8080/"
        },
        "id": "tQB2CnpmJnHf",
        "outputId": "ff4ef030-b4f7-4a95-a6a6-ed7eb3595667"
      },
      "execution_count": 38,
      "outputs": [
        {
          "output_type": "stream",
          "name": "stdout",
          "text": [
            "📊 Full Train Loss: 0.000003\n"
          ]
        }
      ]
    },
    {
      "cell_type": "code",
      "source": [
        "def show_slice_comparison(x, y_true, y_pred, slice_dim=2):\n",
        "    idx = x.shape[slice_dim + 2] // 2\n",
        "    x_slice = x[0, 0].select(dim=slice_dim, index=idx).detach().cpu()\n",
        "    y_true_slice = y_true[0, 0].select(dim=slice_dim, index=idx).detach().cpu()\n",
        "    y_pred_slice = y_pred[0, 0].select(dim=slice_dim, index=idx).detach().cpu()\n",
        "\n",
        "    import matplotlib.pyplot as plt\n",
        "    fig, axs = plt.subplots(1, 3, figsize=(12, 4))\n",
        "    axs[0].imshow(x_slice, cmap='viridis'); axs[0].set_title('Initial')\n",
        "    axs[1].imshow(y_true_slice, cmap='viridis'); axs[1].set_title('Target')\n",
        "    axs[2].imshow(y_pred_slice, cmap='viridis'); axs[2].set_title('FNO Output')\n",
        "    plt.tight_layout(); plt.show()"
      ],
      "metadata": {
        "id": "dunCkqwBJotq"
      },
      "execution_count": 39,
      "outputs": []
    },
    {
      "cell_type": "code",
      "source": [
        "show_slice_comparison(test_x[0:1], test_y[0:1], pred_test[0:1])"
      ],
      "metadata": {
        "colab": {
          "base_uri": "https://localhost:8080/",
          "height": 259
        },
        "id": "brW-pcP4JsGN",
        "outputId": "622eb4b7-1ba5-40c5-a099-85382e69e464"
      },
      "execution_count": 40,
      "outputs": [
        {
          "output_type": "display_data",
          "data": {
            "text/plain": [
              "<Figure size 1200x400 with 3 Axes>"
            ],
            "image/png": "[encoded data removed]"
          },
          "metadata": {}
        }
      ]
    },
    {
      "cell_type": "code",
      "source": [
        "# --- NEW CELL: AUTOREGRESSIVE ROLLOUT ---\n",
        "# This tests if the FNO can predict the long-term evolution on its own.\n",
        "\n",
        "import matplotlib.pyplot as plt\n",
        "\n",
        "print(\"Running long-term prediction using the trained FNO...\")\n",
        "\n",
        "fno_model.eval()  # Set model to evaluation mode\n",
        "\n",
        "with torch.no_grad():\n",
        "    # Start with one initial condition from the test set\n",
        "    current_state = test_x[0:1].clone()\n",
        "\n",
        "    # Store the history of the evolution\n",
        "    history = [current_state.cpu()]\n",
        "\n",
        "    # Evolve for 50 steps using only the FNO's predictions\n",
        "    num_steps = 50\n",
        "    for i in range(num_steps):\n",
        "        # Predict the next state from the current state\n",
        "        next_state = fno_model(current_state)\n",
        "\n",
        "        # The prediction becomes the new current state\n",
        "        current_state = next_state\n",
        "        history.append(current_state.cpu())\n",
        "\n",
        "print(f\"Evolution complete. Visualizing initial state vs. state after {num_steps} steps.\")\n",
        "\n",
        "# Visualize the start vs. the end of your AI-driven simulation\n",
        "# Use the same visualization function you already have\n",
        "show_slice_comparison(\n",
        "    x=history[0],          # The very beginning\n",
        "    y_true=history[-1],      # The final state predicted by the FNO\n",
        "    y_pred=history[-1]       # We show it twice for comparison\n",
        ")"
      ],
      "metadata": {
        "colab": {
          "base_uri": "https://localhost:8080/",
          "height": 294
        },
        "id": "feMdoIumdMQd",
        "outputId": "4a060faa-e4e5-4cd8-e3ef-40eea1383efc"
      },
      "execution_count": 41,
      "outputs": [
        {
          "output_type": "stream",
          "name": "stdout",
          "text": [
            "Running long-term prediction using the trained FNO...\n",
            "Evolution complete. Visualizing initial state vs. state after 50 steps.\n"
          ]
        },
        {
          "output_type": "display_data",
          "data": {
            "text/plain": [
              "<Figure size 1200x400 with 3 Axes>"
            ],
            "image/png": "[encoded data removed]"
          },
          "metadata": {}
        }
      ]
    }
  ]
}